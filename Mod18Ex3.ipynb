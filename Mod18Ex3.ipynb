{
 "cells": [
  {
   "cell_type": "code",
   "execution_count": 1,
   "id": "fa71d0f1",
   "metadata": {},
   "outputs": [],
   "source": [
    "import pandas as pd\n",
    "import numpy as np\n",
    "import matplotlib.pyplot as plt\n",
    "import tensorflow as tf\n",
    "import tensorflow.keras.layers as layers\n",
    "import keras\n",
    "import keras.utils\n",
    "import albumentations as A\n",
    "import os\n",
    "\n",
    "from keras import utils as np_utils\n",
    "from keras.models import Sequential\n",
    "from keras.layers import Dense, Dropout, Activation\n",
    "from keras.layers import Conv2D, MaxPooling2D, BatchNormalization\n",
    "from keras.optimizers import SGD\n",
    "from keras.optimizers import RMSprop,Adam\n",
    "\n",
    "from sklearn.model_selection import train_test_split\n",
    "\n",
    "from tensorflow.keras import datasets, layers, models\n",
    "from tensorflow.keras.utils import to_categorical\n",
    "from tensorflow.keras import layers\n",
    "from tensorflow.keras.preprocessing.image import ImageDataGenerator\n",
    "from tensorflow.keras.utils import plot_model"
   ]
  },
  {
   "cell_type": "code",
   "execution_count": 2,
   "id": "3c71a7b2",
   "metadata": {},
   "outputs": [],
   "source": [
    "train, test = tf.keras.datasets.fashion_mnist.load_data()\n",
    "images, labels = train\n",
    "images = images/255.0\n",
    "labels = labels.astype(np.int32)"
   ]
  },
  {
   "cell_type": "code",
   "execution_count": 3,
   "id": "d108446f",
   "metadata": {},
   "outputs": [
    {
     "name": "stdout",
     "output_type": "stream",
     "text": [
      "Obserwacje treningowe: 54000\n",
      "Obserwacje testowe: 6000\n"
     ]
    }
   ],
   "source": [
    "X_train, X_test, y_train, y_test = \\\n",
    "    train_test_split(images, labels, test_size=0.1, random_state=10, stratify=labels)\n",
    "\n",
    "train_ds = tf.data.Dataset.from_tensor_slices((X_train, y_train))\n",
    "train_ds = train_ds.shuffle(1000).batch(32)\n",
    "\n",
    "print ('Obserwacje treningowe: %d\\nObserwacje testowe: %d' % (X_train.shape[0], X_test.shape[0]))"
   ]
  },
  {
   "cell_type": "code",
   "execution_count": 4,
   "id": "7dbef829",
   "metadata": {},
   "outputs": [
    {
     "data": {
      "text/plain": [
       "<keras.engine.sequential.Sequential at 0x1362b26f340>"
      ]
     },
     "execution_count": 4,
     "metadata": {},
     "output_type": "execute_result"
    }
   ],
   "source": [
    "# Utworzenie modelu\n",
    "f_mnist_model = tf.keras.Sequential([\n",
    "    layers.Flatten(),\n",
    "    layers.Dense(300, activation='relu'),\n",
    "    layers.Dense(150, activation='relu'),\n",
    "    layers.Dense(10, activation='softmax')\n",
    "])\n",
    "f_mnist_model"
   ]
  },
  {
   "cell_type": "code",
   "execution_count": 5,
   "id": "9d52c9c0",
   "metadata": {},
   "outputs": [],
   "source": [
    "# Kompilacja modelu\n",
    "f_mnist_model.compile(\n",
    "    loss='sparse_categorical_crossentropy',\n",
    "    optimizer='adam',\n",
    "    metrics=['accuracy']\n",
    ")"
   ]
  },
  {
   "cell_type": "code",
   "execution_count": null,
   "id": "b9d3705a",
   "metadata": {},
   "outputs": [
    {
     "name": "stdout",
     "output_type": "stream",
     "text": [
      "Epoch 1/20\n",
      "1380/1688 [=======================>......] - ETA: 0s - loss: 0.5041 - accuracy: 0.8176"
     ]
    }
   ],
   "source": [
    "# Trenowanie modelu\n",
    "train_stats = f_mnist_model.fit(train_ds, epochs=20, verbose=1)"
   ]
  },
  {
   "cell_type": "code",
   "execution_count": null,
   "id": "875b39ef",
   "metadata": {},
   "outputs": [],
   "source": [
    "f_mnist_model.summary()"
   ]
  },
  {
   "cell_type": "code",
   "execution_count": null,
   "id": "caf298af",
   "metadata": {},
   "outputs": [],
   "source": [
    "!mkdir -p saved_model\n",
    "f_mnist_model.save('saved_model/model_fashion')"
   ]
  },
  {
   "cell_type": "code",
   "execution_count": null,
   "id": "03aa628e",
   "metadata": {},
   "outputs": [],
   "source": [
    "plt.figure()\n",
    "plt.imshow(X_train[0])\n",
    "plt.colorbar()\n",
    "plt.grid(False)\n",
    "plt.show()"
   ]
  },
  {
   "cell_type": "code",
   "execution_count": null,
   "id": "309e141f",
   "metadata": {},
   "outputs": [],
   "source": [
    "# Wizualizacja w zestawie treningowym\n",
    "plt.figure(figsize=(10,10))\n",
    "for i in range(25):\n",
    "    plt.subplot(5,5,i+1)\n",
    "    plt.xticks([])\n",
    "    plt.yticks([])\n",
    "    plt.grid(False)\n",
    "    plt.imshow(X_train[i], cmap=plt.cm.binary)\n",
    "    plt.xlabel(y_train[i])\n",
    "plt.show()"
   ]
  },
  {
   "cell_type": "code",
   "execution_count": null,
   "id": "c5df4cad",
   "metadata": {},
   "outputs": [],
   "source": [
    "# Ocena modelu - dane testowe\n",
    "loss, accuracy = f_mnist_model.evaluate(X_test, y_test, verbose=0)\n",
    "print('Test loss:', loss)\n",
    "print('Test accuracy:', accuracy)"
   ]
  },
  {
   "cell_type": "code",
   "execution_count": null,
   "id": "663d3601",
   "metadata": {},
   "outputs": [],
   "source": [
    "# Wynik - wizualizacja\n",
    "pd.DataFrame(train_stats.history).plot(figsize=(8, 5))\n",
    "plt.grid(True)\n",
    "plt.gca().set_ylim(0, 1)\n",
    "plt.show()"
   ]
  },
  {
   "cell_type": "markdown",
   "id": "27b0d6cc",
   "metadata": {},
   "source": [
    "Metryka accuracy rośnie z kolejnymi epokami, natomiast błąd loss maleje."
   ]
  },
  {
   "cell_type": "code",
   "execution_count": null,
   "id": "6e5a95f4",
   "metadata": {},
   "outputs": [],
   "source": [
    "# Prognozowanie danych\n",
    "y_pred = f_mnist_model.predict(X_test)\n",
    "print(\"probs : \", y_pred[2])\n",
    "print(\"klasa :\", np.argmax(y_pred[2]))\n",
    "print(\"rzeczywista klasa: \", y_test[2])"
   ]
  },
  {
   "cell_type": "code",
   "execution_count": null,
   "id": "eaaa4f0e",
   "metadata": {},
   "outputs": [],
   "source": [
    "probability_model = tf.keras.Sequential([f_mnist_model, \n",
    "                                         tf.keras.layers.Softmax()])"
   ]
  },
  {
   "cell_type": "code",
   "execution_count": null,
   "id": "7fe1cbe5",
   "metadata": {},
   "outputs": [],
   "source": [
    "predictions = probability_model.predict(images)"
   ]
  },
  {
   "cell_type": "markdown",
   "id": "e14575d8",
   "metadata": {},
   "source": [
    "10 liczb, które przedstawiają prawodpodobieństwo dopasowania obrazu do typów garderoby (labels)."
   ]
  },
  {
   "cell_type": "code",
   "execution_count": null,
   "id": "5afcbcd5",
   "metadata": {},
   "outputs": [],
   "source": [
    "predictions[0]"
   ]
  },
  {
   "cell_type": "markdown",
   "id": "3f5e49e3",
   "metadata": {},
   "source": [
    "Klasa (etykieta) z najwyższą ufnością"
   ]
  },
  {
   "cell_type": "code",
   "execution_count": null,
   "id": "097dbfa2",
   "metadata": {},
   "outputs": [],
   "source": [
    "np.argmax(predictions[0])"
   ]
  },
  {
   "cell_type": "code",
   "execution_count": null,
   "id": "bfa64a95",
   "metadata": {},
   "outputs": [],
   "source": [
    "def plot_image(i, predictions_array, true_label, img):\n",
    "  true_label, img = true_label[i], img[i]\n",
    "  plt.grid(False)\n",
    "  plt.xticks([])\n",
    "  plt.yticks([])\n",
    "\n",
    "  plt.imshow(img, cmap=plt.cm.binary)\n",
    "\n",
    "  predicted_label = np.argmax(predictions_array)\n",
    "  if predicted_label == true_label:\n",
    "    color = 'blue'\n",
    "  else:\n",
    "    color = 'red'\n",
    "\n",
    "  plt.xlabel(\"{} {:2.0f}% ({})\".format(class_names[predicted_label],\n",
    "                                100*np.max(predictions_array),\n",
    "                                class_names[true_label]),\n",
    "                                color=color)\n",
    "\n",
    "def plot_value_array(i, predictions_array, true_label):\n",
    "  true_label = true_label[i]\n",
    "  plt.grid(False)\n",
    "  plt.xticks(range(10))\n",
    "  plt.yticks([])\n",
    "  thisplot = plt.bar(range(10), predictions_array, color=\"#777777\")\n",
    "  plt.ylim([0, 1])\n",
    "  predicted_label = np.argmax(predictions_array)\n",
    "\n",
    "  thisplot[predicted_label].set_color('red')\n",
    "  thisplot[true_label].set_color('blue')"
   ]
  },
  {
   "cell_type": "code",
   "execution_count": null,
   "id": "b58f1be0",
   "metadata": {},
   "outputs": [],
   "source": [
    "class_names = ['T-shirt/top', 'Trouser', 'Pullover', 'Dress', 'Coat',\n",
    "               'Sandal', 'Shirt', 'Sneaker', 'Bag', 'Ankle boot']"
   ]
  },
  {
   "cell_type": "code",
   "execution_count": null,
   "id": "dd645638",
   "metadata": {},
   "outputs": [],
   "source": [
    "num_rows = 5\n",
    "num_cols = 3\n",
    "num_images = num_rows*num_cols\n",
    "plt.figure(figsize=(2*2*num_cols, 2*num_rows))\n",
    "for i in range(num_images):\n",
    "  plt.subplot(num_rows, 2*num_cols, 2*i+1)\n",
    "  plot_image(i, predictions[i], labels, images)\n",
    "  plt.subplot(num_rows, 2*num_cols, 2*i+2)\n",
    "  plot_value_array(i, predictions[i], labels)\n",
    "plt.tight_layout()\n",
    "plt.show()"
   ]
  },
  {
   "cell_type": "markdown",
   "id": "cb89e83c",
   "metadata": {},
   "source": [
    "Model można wykorzystać do przewidywania obrazów. Etykiety prawidłowych prognoz są niebieskie, a nieprawidłowych czerwone."
   ]
  },
  {
   "cell_type": "markdown",
   "id": "dc16bb53",
   "metadata": {},
   "source": [
    "Próba zwiększenia wartości metryki accuracy do około 97% poprzez użycie Albumentations "
   ]
  },
  {
   "cell_type": "code",
   "execution_count": null,
   "id": "531e091a",
   "metadata": {},
   "outputs": [],
   "source": [
    "def albumentation(data):\n",
    "    \n",
    "    fliped_images = []\n",
    "    \n",
    "    for image in data:\n",
    "        \n",
    "        # Declare an augmentation pipeline\n",
    "        transform = A.Compose([\n",
    "        A.HorizontalFlip(p=1),\n",
    "        A.GaussNoise(var_limit=(0.0001, 0.017), always_apply=True)\n",
    "        ])\n",
    "        \n",
    "        transformed = transform(image=image)\n",
    "        new_image = transformed['image']\n",
    "        fliped_images.append(new_image)\n",
    "        \n",
    "        \n",
    "        \n",
    "    images_2 = np.array(fliped_images)\n",
    "    \n",
    "    return images_2"
   ]
  },
  {
   "cell_type": "code",
   "execution_count": null,
   "id": "d1c091ff",
   "metadata": {},
   "outputs": [],
   "source": [
    "train_2, test_2 = tf.keras.datasets.fashion_mnist.load_data()\n",
    "images_2, labels_2 = train_2\n",
    "images_2 = images_2/255.0\n",
    "labels_2 = labels_2.astype(np.int32)"
   ]
  },
  {
   "cell_type": "code",
   "execution_count": null,
   "id": "7a5c2e59",
   "metadata": {},
   "outputs": [],
   "source": [
    "new_images = albumentation(images_2)"
   ]
  },
  {
   "cell_type": "code",
   "execution_count": null,
   "id": "68494cd9",
   "metadata": {},
   "outputs": [],
   "source": [
    "np.shape(new_images)"
   ]
  },
  {
   "cell_type": "code",
   "execution_count": null,
   "id": "648116ba",
   "metadata": {},
   "outputs": [],
   "source": [
    "X_train_2, X_test_2, y_train_2, y_test_2 = train_test_split(new_images, labels_2, test_size=0.1, random_state=10, stratify=labels_2)"
   ]
  },
  {
   "cell_type": "code",
   "execution_count": null,
   "id": "07ee0d7f",
   "metadata": {},
   "outputs": [],
   "source": [
    "train_ds_2 = tf.data.Dataset.from_tensor_slices((X_train_2, y_train_2))"
   ]
  },
  {
   "cell_type": "code",
   "execution_count": null,
   "id": "6c8153ff",
   "metadata": {},
   "outputs": [],
   "source": [
    "train_ds_2 = train_ds_2.shuffle(1000).batch(32)"
   ]
  },
  {
   "cell_type": "code",
   "execution_count": null,
   "id": "b984f993",
   "metadata": {},
   "outputs": [],
   "source": [
    "train_stats_2 = f_mnist_model.fit(train_ds_2, epochs=20, verbose=1)"
   ]
  },
  {
   "cell_type": "code",
   "execution_count": null,
   "id": "48efb58a",
   "metadata": {},
   "outputs": [],
   "source": []
  }
 ],
 "metadata": {
  "kernelspec": {
   "display_name": "Python 3 (ipykernel)",
   "language": "python",
   "name": "python3"
  },
  "language_info": {
   "codemirror_mode": {
    "name": "ipython",
    "version": 3
   },
   "file_extension": ".py",
   "mimetype": "text/x-python",
   "name": "python",
   "nbconvert_exporter": "python",
   "pygments_lexer": "ipython3",
   "version": "3.9.13"
  }
 },
 "nbformat": 4,
 "nbformat_minor": 5
}
